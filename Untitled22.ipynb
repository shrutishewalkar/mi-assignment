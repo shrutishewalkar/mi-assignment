{
 "cells": [
  {
   "cell_type": "markdown",
   "id": "b85b2883-29f1-4301-8d3b-5af2ba938717",
   "metadata": {},
   "source": [
    "Que1: What is an essential technique  in machine learning?"
   ]
  },
  {
   "cell_type": "markdown",
   "id": "c62a86f3-09f0-425a-b52c-020b24e5cac6",
   "metadata": {},
   "source": [
    "Ans: essemble technique in machine learning involve combination multiple models or algorithms to improve the overall performance of a machine learning model.the basic idea behind ensemble technique is to leverage the diversity of different models and to use their strengths to compensate for the weaknesses of other models. they are used for both classification and regression tasks.there are two types of ensemble techniques.\n",
    "1. Bagging : this involves building multiple models using random subsets of the training data and combining their predictions.\n",
    "2. Boosting: this involves building multiple models sequentially , where each subsequent model is trained to correct the error made by the previous model.\n"
   ]
  },
  {
   "cell_type": "markdown",
   "id": "12beeb41-8c41-45da-a42c-7f8ddcf735aa",
   "metadata": {},
   "source": [
    "Que2: why are ensemble techniques used in machine learning."
   ]
  },
  {
   "cell_type": "markdown",
   "id": "a484473f-c3ad-4470-bd35-bded295b4a8b",
   "metadata": {},
   "source": [
    "Ensemble techniques are used in machine learning for several reason.\n"
   ]
  },
  {
   "cell_type": "markdown",
   "id": "3a0ff365-9580-4c67-9a63-48fd257c8c3e",
   "metadata": {},
   "source": [
    "1. Improved accuracy: by combining multiples models , ensembles techniques can achieve higher accuracy than individual models. this is beacuse each models may have its own strength and weaknesses , and by combining them, the esembles models can exploit the strength of each individual models and mitigate the weaknesses.\n",
    "2. Reduced overfitting: ensembles techniques can also be reduce overfitting , which occur when a model is too complex and learners to fit the training data too closely, resulting in poor performance on unseen data.\n",
    "3. Robustness: ensemble techniques can also be improve the robustness of the models by reducing the impact of outliers or noisy data.\n",
    "4. Flexibility: ensemble technique are felxible and it can be used with some data models , with respect to machine  learning that solves complex problems.\n",
    "\n",
    "overall , ensemble technique are a powerful approch to improving the accuracy and robustness of machine learning models, and they are widely used in various fields, such as computer vision, natural languages processing , and data mining."
   ]
  },
  {
   "cell_type": "markdown",
   "id": "41df52e0-d3db-4a4b-b207-e651f8cc872f",
   "metadata": {},
   "source": [
    "Que3. what is bagging?"
   ]
  },
  {
   "cell_type": "markdown",
   "id": "7962d638-effb-4097-aa42-456c65100aab",
   "metadata": {},
   "source": [
    "A terminology that is widely used for ensemble techniques in machine learning, which involves building multiple models using random subsets of the training data and combining their predictions, is called bagging. the most popular ex of bagging is the random forest algorithm."
   ]
  },
  {
   "cell_type": "markdown",
   "id": "e2ed885c-fc97-443a-93a2-39b6d716e005",
   "metadata": {},
   "source": [
    "Que4. what is boosting?"
   ]
  },
  {
   "cell_type": "markdown",
   "id": "bb7625c7-eb67-4002-b530-fb69e5de3a4a",
   "metadata": {},
   "source": [
    "A terminology that is widely used for ensemble technique in machine learning, which involves building multiple models sequentially, where eachsubsequent model is trained to correct the errors made by the previous model is called boosting . the most popular ex of boosting is the Adaboost algorithm."
   ]
  },
  {
   "cell_type": "markdown",
   "id": "f4640282-4a96-4bb8-b914-261fa7765d17",
   "metadata": {},
   "source": [
    "Que5 what are the benefits of using ensemble techniques?"
   ]
  },
  {
   "cell_type": "markdown",
   "id": "adc8e9d3-b1dd-4fba-838c-3bc6054b95d1",
   "metadata": {},
   "source": [
    "there are several benefits of using ensemble techniques in machine learning"
   ]
  },
  {
   "cell_type": "markdown",
   "id": "6f8c3806-f143-4c03-bf38-edb1eb42d92a",
   "metadata": {},
   "source": [
    "1. Improved accuracy: by combining multiples models , ensembles techniques can achieve higher accuracy than individual models. this is beacuse each models may have its own strength and weaknesses , and by combining them, the esembles models can exploit the strength of each individual models and mitigate the weaknesses.\n",
    "2. Reduced overfitting: ensembles techniques can also be reduce overfitting , which occur when a model is too complex and learners to fit the training data too closely, resulting in poor performance on unseen data.\n",
    "3. Robustness: ensemble techniques can also be improve the robustness of the models by reducing the impact of outliers or noisy data.\n",
    "4. Flexibility: ensemble technique are felxible and it can be used with some data models , with respect to machine  learning that solves complex problems.\n",
    "5. Faster training time: in some ensemble technique  can be faster to train than individual models."
   ]
  },
  {
   "cell_type": "markdown",
   "id": "63818800-925e-4e2f-b129-68f606fb36ec",
   "metadata": {},
   "source": [
    "Que6 Are essential technique always better than individual models?"
   ]
  },
  {
   "cell_type": "markdown",
   "id": "8e85a48b-9128-4979-96aa-805a25040434",
   "metadata": {},
   "source": [
    "Ensembles techniques are not always better than individual models. the effectiveness of ensembles techniques depends on several factors, such as the quality and diversity of the individual models , the size and quality of the training data ,and the complexity of the problem."
   ]
  },
  {
   "cell_type": "markdown",
   "id": "7f77ca1b-b921-4540-99fc-99f3370e977a",
   "metadata": {},
   "source": [
    "In some  cases ,individual models may perform better than ensembles techniques,for examples, if the individual models are already very accurate and diverse then combiningb them may not provides much additional benefits. Additionally if the training data is small, ensembles techniques may not provides much benefits , as they may not be enough data to train multiple models. "
   ]
  },
  {
   "cell_type": "markdown",
   "id": "834c151f-ce15-496a-9a11-f2fd56e5ed9b",
   "metadata": {},
   "source": [
    "Que7 How is the confidence interval calculated using bootstrap?"
   ]
  },
  {
   "cell_type": "markdown",
   "id": "7b0df802-9f60-473e-a2ad-22783f9fbd11",
   "metadata": {},
   "source": [
    "The confidence interval can be calculated using bootstrap as follows:\n",
    "\n",
    "    1. Randomly select a sample of size n form the original data, with replacement.this is called a bootstrap sample.\n",
    "    \n",
    "    2. calculate the stastics of intrest (e.g. mean , median , standard deviation) for the bootstrap sample\n",
    "    \n",
    "    3. Repeat steps 1 and 2 B times , where B is a large number(e.g, 1000).\n",
    "    \n",
    "    4. calculate the standard erroe of the statisrics by computing the standard deviation of the B bootstrap statistics.\n",
    "    \n",
    "    5. calculate the lower and upper bounds of the confidence interval using the percential method . for ex , if we want to calculate  a 95% confidence interval , we would take the 2.5th and 97.5th percentiles of the B bootstrap statistics . the resulting range represents the lower  and upper bounds of the confidence interval.\n",
    "    \n",
    "    the percentile method assumes that the distribution of the bootstrap statiscs is approximately normal."
   ]
  },
  {
   "cell_type": "markdown",
   "id": "4ab1f0dd-a785-4fa3-aff2-4c452f3b825d",
   "metadata": {},
   "source": [
    "que8 how does bootstrap work and what are the steps invelved in bootstrap?"
   ]
  },
  {
   "cell_type": "markdown",
   "id": "7ab9a119-5329-46c1-82d4-cebd0bbf4bd7",
   "metadata": {},
   "source": [
    "Bootstrap is a statistical technique used to estimate the variability and uncertainty of a parameters by available data. it is partcilarly useful whenthe sample size is small or when the underlying distributionis not well known. the steps involved in bootstrap are as follows:\n",
    "1. collect a sample of size n from the population of interst.\n",
    "2. create a bootstrap sample by randomly selecting n observations from the original sample with replacement.\n",
    "3. calculate the statistics of interest for the bootstrap sample.\n",
    "4. repeat steps 2 and 3 B times , where Bis a large number(e.g1000) . this will result in B bootstrap samples and B corresponding statistics of interset.\n",
    "5. calculate the standard error of statistics by taking the standard deviation of the B bootstrap statistics .\n",
    "6. contruct a confidence interval for the population parameter by using method. \n",
    "7. interpret the confidence interval in the context of the problem."
   ]
  },
  {
   "cell_type": "code",
   "execution_count": null,
   "id": "e9c1c087-a7a5-48ac-b888-0fb25c03df03",
   "metadata": {},
   "outputs": [],
   "source": []
  }
 ],
 "metadata": {
  "kernelspec": {
   "display_name": "Python 3 (ipykernel)",
   "language": "python",
   "name": "python3"
  },
  "language_info": {
   "codemirror_mode": {
    "name": "ipython",
    "version": 3
   },
   "file_extension": ".py",
   "mimetype": "text/x-python",
   "name": "python",
   "nbconvert_exporter": "python",
   "pygments_lexer": "ipython3",
   "version": "3.10.8"
  }
 },
 "nbformat": 4,
 "nbformat_minor": 5
}
